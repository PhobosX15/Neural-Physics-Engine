{
  "cells": [
    {
      "attachments": {},
      "cell_type": "markdown",
      "id": "a4ec9a11-3515-40aa-97ac-73c249df560e",
      "metadata": {
        "id": "a4ec9a11-3515-40aa-97ac-73c249df560e"
      },
      "source": [
        "# Group Number:\n",
        "# Student 1:\n",
        "# Student 2:\n",
        "# Student 3:"
      ]
    },
    {
      "attachments": {},
      "cell_type": "markdown",
      "id": "a8c200a7-b3ab-4c9a-bcf8-320271c040f3",
      "metadata": {
        "id": "a8c200a7-b3ab-4c9a-bcf8-320271c040f3"
      },
      "source": [
        "In case you are using google colab, uncomment the following cell, and modify the ```notebook_dir``` variable to contain the directory this notebook is in. It will automatically download the .py files needed for this assignment"
      ]
    },
    {
      "cell_type": "code",
      "execution_count": 1,
      "id": "igFRsZKIC18S",
      "metadata": {
        "id": "igFRsZKIC18S"
      },
      "outputs": [],
      "source": [
        "# # Change the following  line to the directory this notebook is (if using colab)\n",
        "# # In case you do not know the path, open the file navigator on the left in colab\n",
        "# # Find the folder containing this notebook, then press on the three dots --> copy path\n",
        "notebook_dir = \"/content/drive/MyDrive/TUe/DeepLearning\""
      ]
    },
    {
      "cell_type": "code",
      "execution_count": 2,
      "id": "828246d4-75b2-42b7-ab06-925e6624f411",
      "metadata": {
        "colab": {
          "base_uri": "https://localhost:8080/"
        },
        "id": "828246d4-75b2-42b7-ab06-925e6624f411",
        "outputId": "999fdc39-75eb-417a-b2ee-17aace085b98"
      },
      "outputs": [
        {
          "data": {
            "text/plain": [
              "' # # UNCOMMENT IF USING COLAB\\nfrom google.colab import drive\\nimport requests\\ndrive.mount(\\'/content/drive\\')\\nimport sys\\nimport os\\nsys.path.insert(0, notebook_dir) \\nos.chdir(notebook_dir)\\nsymco = \"https://github.com/vlamen/tue-deeplearning/blob/main/assignments/assignment_1/symconv.py?raw=true\"\\ncrpt = \"https://github.com/vlamen/tue-deeplearning/blob/main/assignments/assignment_1/carpet.py?raw=true\"\\nr_s = requests.get(symco, allow_redirects=True)\\nr_c = requests.get(crpt, allow_redirects=True)\\nwith open(\\'symconv.py\\', \\'wb\\') as f:\\n    f.write(r_s.content)\\nwith open(\\'carpet.py\\', \\'wb\\') as f:\\n    f.write(r_c.content) '"
            ]
          },
          "execution_count": 2,
          "metadata": {},
          "output_type": "execute_result"
        }
      ],
      "source": [
        "\"\"\" # # UNCOMMENT IF USING COLAB\n",
        "from google.colab import drive\n",
        "import requests\n",
        "drive.mount('/content/drive')\n",
        "import sys\n",
        "import os\n",
        "sys.path.insert(0, notebook_dir) \n",
        "os.chdir(notebook_dir)\n",
        "symco = \"https://github.com/vlamen/tue-deeplearning/blob/main/assignments/assignment_1/symconv.py?raw=true\"\n",
        "crpt = \"https://github.com/vlamen/tue-deeplearning/blob/main/assignments/assignment_1/carpet.py?raw=true\"\n",
        "r_s = requests.get(symco, allow_redirects=True)\n",
        "r_c = requests.get(crpt, allow_redirects=True)\n",
        "with open('symconv.py', 'wb') as f:\n",
        "    f.write(r_s.content)\n",
        "with open('carpet.py', 'wb') as f:\n",
        "    f.write(r_c.content) \"\"\""
      ]
    },
    {
      "cell_type": "code",
      "execution_count": 1,
      "id": "1c401bd6-3828-4f5e-ada8-a026e0a167bf",
      "metadata": {
        "id": "1c401bd6-3828-4f5e-ada8-a026e0a167bf"
      },
      "outputs": [],
      "source": [
        "import torch\n",
        "import torch.nn as nn\n",
        "import torch.nn.functional as F\n",
        "from torch.utils.data import DataLoader, Dataset, TensorDataset\n",
        "\n",
        "import io\n",
        "import requests\n",
        "\n",
        "import symconv as sc\n",
        "from carpet import show_carpet, oh_to_label\n",
        "\n",
        "import numpy as np\n",
        "import matplotlib.pyplot as plt\n",
        "\n",
        "from scipy.spatial.distance import cdist\n",
        "\n",
        "from tqdm import tqdm"
      ]
    },
    {
      "cell_type": "code",
      "execution_count": 2,
      "id": "gD5Y021EjRq6",
      "metadata": {
        "id": "gD5Y021EjRq6"
      },
      "outputs": [],
      "source": [
        "if torch.cuda.is_available():\n",
        "    device = torch.device('cuda')\n",
        "else:\n",
        "    device=torch.device('cpu')"
      ]
    },
    {
      "cell_type": "code",
      "execution_count": 3,
      "id": "35c0bcb8-5215-40b3-8ba2-7e4208651c90",
      "metadata": {
        "id": "35c0bcb8-5215-40b3-8ba2-7e4208651c90"
      },
      "outputs": [],
      "source": [
        "def load_numpy_arr_from_url(url):\n",
        "    \"\"\"\n",
        "    Loads a numpy array from surfdrive. \n",
        "    \n",
        "    Input:\n",
        "    url: Download link of dataset \n",
        "    \n",
        "    Outputs:\n",
        "    dataset: numpy array with input features or labels\n",
        "    \"\"\"\n",
        "    \n",
        "    response = requests.get(url)\n",
        "    response.raise_for_status()\n",
        "\n",
        "    return np.load(io.BytesIO(response.content)) "
      ]
    },
    {
      "attachments": {},
      "cell_type": "markdown",
      "id": "045a1fdc-8c84-4829-b8c8-14c957f733f6",
      "metadata": {
        "id": "045a1fdc-8c84-4829-b8c8-14c957f733f6"
      },
      "source": [
        "# Task 1: Pattern Classification"
      ]
    },
    {
      "cell_type": "code",
      "execution_count": 4,
      "id": "a45b63ab-610e-4e03-b1da-a717c2a77c8a",
      "metadata": {
        "colab": {
          "base_uri": "https://localhost:8080/"
        },
        "id": "a45b63ab-610e-4e03-b1da-a717c2a77c8a",
        "outputId": "a08c590f-6b01-4564-c87b-2f44dd0b9f76"
      },
      "outputs": [
        {
          "name": "stdout",
          "output_type": "stream",
          "text": [
            "Carpet train shape: torch.Size([7500, 1, 96, 60])\n",
            "Label train shape: torch.Size([7500, 3])\n",
            "Carpet validation shape: torch.Size([2000, 1, 96, 60])\n",
            "Label validation shape: torch.Size([2000, 3])\n",
            "Carpet test shape: torch.Size([500, 1, 96, 60])\n",
            "Label test shape: torch.Size([500, 3])\n"
          ]
        }
      ],
      "source": [
        "# loading training and testing data for task 1\n",
        "# DO NOT MODIFY\n",
        "task1 = load_numpy_arr_from_url(\"https://github.com/vlamen/tue-deeplearning/blob/main/assignments/assignment_1/task1data.npz?raw=true\")\n",
        "# task1 = np.load(\"task1data.npz\")\n",
        "\n",
        "X = torch.tensor(task1['arr_0']).float()\n",
        "y = torch.tensor(task1['arr_1']).float()\n",
        "\n",
        "X_train = X[:7500]\n",
        "X_val = X[7500:9500]\n",
        "X_test = X[9500:]\n",
        "y_train = y[:7500]\n",
        "y_val = y[7500:9500]\n",
        "y_test  = y[9500:]\n",
        "\n",
        "train_dataset = TensorDataset(X_train, y_train)\n",
        "val_dataset = TensorDataset(X_val, y_val)\n",
        "test_dataset = TensorDataset(X_test, y_test)\n",
        "\n",
        "\n",
        "print(f\"Carpet train shape: {X_train.shape}\")\n",
        "print(f\"Label train shape: {y_train.shape}\")\n",
        "print(f\"Carpet validation shape: {X_val.shape}\")\n",
        "print(f\"Label validation shape: {y_val.shape}\")\n",
        "print(f\"Carpet test shape: {X_test.shape}\")\n",
        "print(f\"Label test shape: {y_test.shape}\")"
      ]
    },
    {
      "cell_type": "code",
      "execution_count": 5,
      "id": "a4c5553f-023f-48fc-81b5-83184a46a21d",
      "metadata": {
        "colab": {
          "base_uri": "https://localhost:8080/",
          "height": 302
        },
        "id": "a4c5553f-023f-48fc-81b5-83184a46a21d",
        "outputId": "9fed8192-1851-452e-f85d-cdf9e1e3d188"
      },
      "outputs": [
        {
          "name": "stdout",
          "output_type": "stream",
          "text": [
            "Carpet from Transformabad\n"
          ]
        },
        {
          "data": {
            "image/png": "[encoded data removed]",
            "text/plain": [
              "<Figure size 640x480 with 1 Axes>"
            ]
          },
          "metadata": {},
          "output_type": "display_data"
        }
      ],
      "source": [
        "# random carpet\n",
        "idx = np.random.randint(0,7500)\n",
        "show_carpet(X_train, idx)\n",
        "print('Carpet from', oh_to_label(y_train[idx,None])[0])"
      ]
    },
    {
      "cell_type": "code",
      "execution_count": 6,
      "id": "DjMXGaWwYwtT",
      "metadata": {
        "id": "DjMXGaWwYwtT"
      },
      "outputs": [],
      "source": [
        "train_dataloader = DataLoader(train_dataset, batch_size=32, shuffle=True)\n",
        "\n",
        "valid_dataloader = DataLoader(val_dataset, batch_size=32, shuffle=False)"
      ]
    },
    {
      "cell_type": "code",
      "execution_count": 7,
      "id": "D-nBJ7IhL4Qz",
      "metadata": {
        "id": "D-nBJ7IhL4Qz"
      },
      "outputs": [],
      "source": [
        "class SymModel(nn.Module):\n",
        "    def __init__(self):\n",
        "        super().__init__()\n",
        "\n",
        "        self.rot_slc = sc.Slice(rotation=4, reflection=False)\n",
        "        self.convs = nn.Sequential(\n",
        "            sc.SymmetryConv2d(in_filters=1, out_filters=16, kernel_size=4, stride=4, rotation=4, reflection=False),\n",
        "            nn.ReLU(),\n",
        "            sc.SymmetryPool(),\n",
        "            nn.Conv2d(16, 32, kernel_size=3, stride=3),\n",
        "            nn.ReLU(),\n",
        "            nn.Conv2d(32, 32, kernel_size=3, stride=1),\n",
        "            nn.ReLU()\n",
        "            )\n",
        "        self.pool = sc.SymmetryPool()\n",
        "        self.lin1 = nn.Linear(576, 64)\n",
        "        self.lin2 = nn.Linear(64, 3)\n",
        "        \n",
        "    def forward(self, x):\n",
        "        x = self.rot_slc(x)\n",
        "        x = self.convs(x)\n",
        "        x = torch.flatten(x, start_dim=1)\n",
        "        x = self.lin1(torch.flatten(x, start_dim=1))\n",
        "        x = self.lin2(x)\n",
        "\n",
        "        return x"
      ]
    },
    {
      "cell_type": "code",
      "execution_count": 8,
      "id": "v-yz4I6QZ8IR",
      "metadata": {
        "id": "v-yz4I6QZ8IR"
      },
      "outputs": [],
      "source": [
        "model = SymModel().to(device)"
      ]
    },
    {
      "cell_type": "code",
      "execution_count": 9,
      "id": "LJ2PUjtZZyvB",
      "metadata": {
        "id": "LJ2PUjtZZyvB"
      },
      "outputs": [],
      "source": [
        "optimizer = torch.optim.Adam(model.parameters(), lr=1e-4)\n",
        "\n",
        "criterion = nn.CrossEntropyLoss()"
      ]
    },
    {
      "cell_type": "code",
      "execution_count": 11,
      "id": "2X-AzMQRZDn5",
      "metadata": {
        "colab": {
          "base_uri": "https://localhost:8080/"
        },
        "id": "2X-AzMQRZDn5",
        "outputId": "73a5704a-da2a-4ad0-d95f-6d84dee3c8e7"
      },
      "outputs": [
        {
          "name": "stderr",
          "output_type": "stream",
          "text": [
            " 10%|█         | 1/10 [00:10<01:30, 10.08s/it]"
          ]
        },
        {
          "name": "stdout",
          "output_type": "stream",
          "text": [
            "Train acc: 0.9759 Val acc: 0.9825\n"
          ]
        },
        {
          "name": "stderr",
          "output_type": "stream",
          "text": [
            " 20%|██        | 2/10 [00:19<01:19,  9.98s/it]"
          ]
        },
        {
          "name": "stdout",
          "output_type": "stream",
          "text": [
            "Train acc: 0.9885 Val acc: 0.9910\n"
          ]
        },
        {
          "name": "stderr",
          "output_type": "stream",
          "text": [
            " 30%|███       | 3/10 [00:29<01:09,  9.97s/it]"
          ]
        },
        {
          "name": "stdout",
          "output_type": "stream",
          "text": [
            "Train acc: 0.9949 Val acc: 0.9915\n"
          ]
        },
        {
          "name": "stderr",
          "output_type": "stream",
          "text": [
            " 40%|████      | 4/10 [00:40<01:00, 10.01s/it]"
          ]
        },
        {
          "name": "stdout",
          "output_type": "stream",
          "text": [
            "Train acc: 0.9972 Val acc: 0.9905\n"
          ]
        },
        {
          "name": "stderr",
          "output_type": "stream",
          "text": [
            " 50%|█████     | 5/10 [00:49<00:49,  9.98s/it]"
          ]
        },
        {
          "name": "stdout",
          "output_type": "stream",
          "text": [
            "Train acc: 0.9989 Val acc: 0.9940\n"
          ]
        },
        {
          "name": "stderr",
          "output_type": "stream",
          "text": [
            " 60%|██████    | 6/10 [01:00<00:40, 10.03s/it]"
          ]
        },
        {
          "name": "stdout",
          "output_type": "stream",
          "text": [
            "Train acc: 0.9997 Val acc: 0.9935\n"
          ]
        },
        {
          "name": "stderr",
          "output_type": "stream",
          "text": [
            " 70%|███████   | 7/10 [01:10<00:30, 10.04s/it]"
          ]
        },
        {
          "name": "stdout",
          "output_type": "stream",
          "text": [
            "Train acc: 1.0000 Val acc: 0.9945\n"
          ]
        },
        {
          "name": "stderr",
          "output_type": "stream",
          "text": [
            " 80%|████████  | 8/10 [01:20<00:20, 10.07s/it]"
          ]
        },
        {
          "name": "stdout",
          "output_type": "stream",
          "text": [
            "Train acc: 1.0000 Val acc: 0.9935\n"
          ]
        },
        {
          "name": "stderr",
          "output_type": "stream",
          "text": [
            " 90%|█████████ | 9/10 [01:30<00:10, 10.11s/it]"
          ]
        },
        {
          "name": "stdout",
          "output_type": "stream",
          "text": [
            "Train acc: 1.0000 Val acc: 0.9940\n"
          ]
        },
        {
          "name": "stderr",
          "output_type": "stream",
          "text": [
            "100%|██████████| 10/10 [01:40<00:00, 10.08s/it]"
          ]
        },
        {
          "name": "stdout",
          "output_type": "stream",
          "text": [
            "Train acc: 1.0000 Val acc: 0.9970\n"
          ]
        },
        {
          "name": "stderr",
          "output_type": "stream",
          "text": [
            "\n"
          ]
        }
      ],
      "source": [
        "EPOCHS = 10\n",
        "\n",
        "for epoch in tqdm(range(EPOCHS)):\n",
        "    \n",
        "    model.train()\n",
        "    \n",
        "    train_losses = []\n",
        "\n",
        "    train_acc, train_count = 0, 0\n",
        "\n",
        "    for batch in train_dataloader:\n",
        "        x, y = batch\n",
        "        input, labels = x.to(device), y.to(device)\n",
        "        optimizer.zero_grad()\n",
        "\n",
        "        output = model(input)\n",
        "        loss = criterion(output, labels)\n",
        "\n",
        "        loss.backward()\n",
        "        optimizer.step()\n",
        "\n",
        "        train_acc += (labels.argmax(dim=-1) == output.argmax(dim=-1)).sum().item()\n",
        "\n",
        "        train_count += labels.size(0)\n",
        "\n",
        "    model.eval()\n",
        "\n",
        "    valid_acc, valid_count = 0, 0\n",
        "\n",
        "\n",
        "    for batch in valid_dataloader:\n",
        "\n",
        "        x, y = batch\n",
        "        input, labels = x.to(device), y.to(device)\n",
        "\n",
        "        with torch.no_grad():\n",
        "            output = model(input)\n",
        "            \n",
        "            valid_acc += (labels.argmax(dim=-1) == output.argmax(dim=-1)).sum().item()\n",
        "\n",
        "            valid_count += labels.size(0)\n",
        "\n",
        "\n",
        "\n",
        "    print(f'Train acc: {train_acc / train_count:.4f}',end=' ')\n",
        "    print(f'Val acc: {valid_acc / valid_count:.4f}',end='\\n')"
      ]
    },
    {
      "cell_type": "code",
      "execution_count": 20,
      "id": "b8975d11",
      "metadata": {},
      "outputs": [],
      "source": [
        "model_task1_state = model.state_dict()"
      ]
    },
    {
      "attachments": {},
      "cell_type": "markdown",
      "id": "06c5a8d4",
      "metadata": {
        "id": "06c5a8d4"
      },
      "source": [
        "## Task 1: Question 5d"
      ]
    },
    {
      "attachments": {},
      "cell_type": "markdown",
      "id": "1e988bc2-6ba1-49cd-ae26-6feea8ad2776",
      "metadata": {
        "id": "1e988bc2-6ba1-49cd-ae26-6feea8ad2776"
      },
      "source": [
        "# Task 2: Carpet Matching "
      ]
    },
    {
      "cell_type": "code",
      "execution_count": 75,
      "id": "20a2ce3a-4c8c-4f1f-9a29-113063ce7f74",
      "metadata": {
        "id": "20a2ce3a-4c8c-4f1f-9a29-113063ce7f74"
      },
      "outputs": [
        {
          "name": "stdout",
          "output_type": "stream",
          "text": [
            "Carpet train shape: (15000, 1, 96, 60)\n",
            "Label train shape: (15000,)\n",
            "Ground truth test shape: (300,)\n",
            "Query carpets shape: (300, 1, 96, 60)\n",
            "Candidate carpets shape: (300, 4, 1, 96, 60)\n"
          ]
        }
      ],
      "source": [
        "# loading training and testing data for task 2\n",
        "# DO NOT MODIFY\n",
        "task2 = load_numpy_arr_from_url(\"https://github.com/vlamen/tue-deeplearning/blob/main/assignments/assignment_1/task2data.npz?raw=true\")\n",
        "# task2 = np.load('task2data.npz')\n",
        "\n",
        "X = task2['arr_0'].astype(float)\n",
        "y = task2['arr_1'].astype(float)\n",
        "gt = task2['arr_2'].astype(float) # ground truth\n",
        "queries = task2['arr_3'].astype(float)\n",
        "targets = task2['arr_4'].astype(float)\n",
        "\n",
        "print(f\"Carpet train shape: {X.shape}\")\n",
        "print(f\"Label train shape: {y.shape}\")\n",
        "print(f\"Ground truth test shape: {gt.shape}\")\n",
        "print(f\"Query carpets shape: {queries.shape}\")\n",
        "print(f\"Candidate carpets shape: {targets.shape}\")"
      ]
    },
    {
      "cell_type": "code",
      "execution_count": 76,
      "id": "a6eef917",
      "metadata": {},
      "outputs": [],
      "source": [
        "#Stratify split into train and validation\n",
        "from sklearn.model_selection import train_test_split\n",
        "X_train, X_val, y_train, y_val = train_test_split(X, y, test_size=0.2, stratify=y)\n",
        "\n",
        "#convert to tensors\n",
        "X_train = torch.tensor(X_train).float()\n",
        "X_val = torch.tensor(X_val).float()"
      ]
    },
    {
      "attachments": {},
      "cell_type": "markdown",
      "id": "5faf0957",
      "metadata": {},
      "source": [
        "#### Defining the Embedding Net. Using the same network from Task 1 ## "
      ]
    },
    {
      "cell_type": "code",
      "execution_count": 290,
      "id": "dd62da0b",
      "metadata": {},
      "outputs": [],
      "source": [
        "import torch\n",
        "import torch.nn as nn\n",
        "import torch.nn.functional as F\n",
        "\n",
        "class Lambda(nn.Module):\n",
        "    def __init__(self, lambd):\n",
        "        super().__init__()\n",
        "        self.lambd = lambd\n",
        "\n",
        "    def forward(self, x):\n",
        "        return self.lambd(x)\n",
        "\n",
        "class EmbeddingNet(nn.Module):\n",
        "    def __init__(self):\n",
        "        super().__init__()\n",
        "\n",
        "        self.rot_slc = sc.Slice(rotation=4, reflection=False)\n",
        "        self.convs = nn.Sequential(\n",
        "            sc.SymmetryConv2d(in_filters=1, out_filters=16, kernel_size=4, stride=4, rotation=4, reflection=False),\n",
        "            nn.ReLU(),\n",
        "            sc.SymmetryPool(),\n",
        "            nn.Conv2d(16, 32, kernel_size=3, stride=3),\n",
        "            nn.ReLU(),\n",
        "            nn.Conv2d(32, 32, kernel_size=3, stride=1),\n",
        "            nn.ReLU()\n",
        "            )\n",
        "        self.pool = sc.SymmetryPool()\n",
        "        self.lin1 = nn.Linear(576, 64)  #second to last layer of model of task 1 to extract embeddings \n",
        "        # self.lin2 = nn.Linear(64, 3)\n",
        "        \n",
        "        \n",
        "    def forward(self, x):\n",
        "        x = self.rot_slc(x)\n",
        "        x = self.convs(x)\n",
        "        x = torch.flatten(x, start_dim=1)\n",
        "        x = self.lin1(torch.flatten(x, start_dim=1))\n",
        "        # x = self.lin2(x)\n",
        "\n",
        "        return x\n",
        "    \n",
        "    def get_embedding(self, x):\n",
        "        return self.forward(x)\n",
        "\n"
      ]
    },
    {
      "cell_type": "code",
      "execution_count": 291,
      "id": "46002872",
      "metadata": {},
      "outputs": [],
      "source": [
        "# import torch\n",
        "# import torch.nn as nn\n",
        "# import torch.nn.functional as F\n",
        "\n",
        "# class Lambda(nn.Module):\n",
        "#     def __init__(self, lambd):\n",
        "#         super().__init__()\n",
        "#         self.lambd = lambd\n",
        "\n",
        "#     def forward(self, x):\n",
        "#         return self.lambd(x)\n",
        "\n",
        "# class EmbeddingNet(nn.Module):\n",
        "#     def __init__(self):\n",
        "#         super().__init__()\n",
        "\n",
        "#         self.rot_slc = sc.Slice(rotation=4, reflection=False)\n",
        "#         self.convs = nn.Sequential(\n",
        "#             sc.SymmetryConv2d(in_filters=1, out_filters=16, kernel_size=4, stride=4, rotation=4, reflection=False),\n",
        "#             nn.ReLU(),\n",
        "#             sc.SymmetryPool(),\n",
        "#             nn.Conv2d(16, 32, kernel_size=3, stride=3),\n",
        "#             nn.ReLU(),\n",
        "#             nn.Conv2d(32, 32, kernel_size=3, stride=1),\n",
        "#             nn.ReLU(),\n",
        "#             # nn.Conv2d(64, 64, kernel_size=3, stride=1),\n",
        "#             # nn.ReLU()\n",
        "#         )\n",
        "#         # self.pool = sc.SymmetryPool()\n",
        "#         self.lin1 = nn.Linear(576, 265)  # Increase the output size of the linear layer\n",
        "#         self.lin2 = nn.Linear(265, 128)   # Add another linear layer\n",
        "#         # self.lin3 = nn.Linear(64, 3)    # Optionally, add more linear layers\n",
        "        \n",
        "#     def forward(self, x):\n",
        "#         x = self.rot_slc(x)\n",
        "#         x = self.convs(x)\n",
        "#         x = torch.flatten(x, start_dim=1)\n",
        "#         x = self.lin1(torch.flatten(x, start_dim=1))\n",
        "#         x = self.lin2(x)\n",
        "#         # x = self.lin3(x)\n",
        "#         return x\n",
        "    \n",
        "#     def get_embedding(self, x):\n",
        "#         return self.forward(x)"
      ]
    },
    {
      "attachments": {},
      "cell_type": "markdown",
      "id": "dd3a459c",
      "metadata": {},
      "source": [
        "### Balanced Batch Sampler and Data Loader"
      ]
    },
    {
      "cell_type": "code",
      "execution_count": 292,
      "id": "98eb0782",
      "metadata": {},
      "outputs": [],
      "source": [
        "from torch.utils.data.sampler import BatchSampler\n",
        "import numpy as np\n",
        "\n",
        "class BalancedBatchSampler(BatchSampler):\n",
        "    \"\"\"\n",
        "    Returns batches of size n_classes * n_samples\n",
        "    \"\"\"\n",
        "    #Just overriding a bunch of methods from BatchSampler\n",
        "\n",
        "    def __init__(self, labels, n_classes, n_samples):\n",
        "        self.labels = labels\n",
        "        self.labels_set = list(set(self.labels))\n",
        "        self.label_to_indices = {label: np.where(  np.array(self.labels) == label)[0]\n",
        "                                 for label in self.labels_set}\n",
        "        for l in self.labels_set:\n",
        "            np.random.shuffle(self.label_to_indices[l])\n",
        "        self.used_label_indices_count = {label: 0 for label in self.labels_set}\n",
        "        self.count = 0\n",
        "        self.n_classes = n_classes\n",
        "        self.n_samples = n_samples\n",
        "        self.n_dataset = len(self.labels)\n",
        "        self.batch_size = self.n_samples * self.n_classes\n",
        "\n",
        "    def __iter__(self):\n",
        "        self.count = 0\n",
        "        while self.count + self.batch_size < self.n_dataset:\n",
        "            classes = np.random.choice(self.labels_set, self.n_classes, replace=False)\n",
        "            indices = []\n",
        "            for class_ in classes:\n",
        "                indices.extend(self.label_to_indices[class_][\n",
        "                               self.used_label_indices_count[class_]:self.used_label_indices_count[\n",
        "                                                                         class_] + self.n_samples])\n",
        "                self.used_label_indices_count[class_] += self.n_samples\n",
        "                if self.used_label_indices_count[class_] + self.n_samples > len(self.label_to_indices[class_]):\n",
        "                    np.random.shuffle(self.label_to_indices[class_])\n",
        "                    self.used_label_indices_count[class_] = 0\n",
        "            yield indices\n",
        "            self.count += self.n_classes * self.n_samples\n",
        "\n",
        "    def __len__(self):\n",
        "        return self.n_dataset // self.batch_size"
      ]
    },
    {
      "cell_type": "code",
      "execution_count": 293,
      "id": "d12b21c7",
      "metadata": {},
      "outputs": [],
      "source": [
        "from torch.utils.data import Dataset, DataLoader\n",
        "\n",
        "class CustomDataset(Dataset):\n",
        "    def __init__(self, X, y):\n",
        "        self.X = torch.Tensor(X)\n",
        "        self.y = y\n",
        "\n",
        "    def __len__(self):\n",
        "        return len(self.X)\n",
        "\n",
        "    def __getitem__(self, index):\n",
        "        return self.X[index], self.y[index]"
      ]
    },
    {
      "cell_type": "code",
      "execution_count": 294,
      "id": "2465359f",
      "metadata": {},
      "outputs": [],
      "source": [
        "train_batch_sampler = BalancedBatchSampler(y_train, n_classes=200, n_samples=2)\n",
        "test_batch_sampler = BalancedBatchSampler(y_val, n_classes=200, n_samples=2)\n",
        "\n",
        "#train_dataset= torch.utils.data.TensorDataset(X_train,y_train)\n",
        "#test_dataset= torch.utils.data.TensorDataset(X_val,y_val)\n",
        "train_dataset = CustomDataset(X_train, y_train)\n",
        "test_dataset = CustomDataset(X_val, y_val)\n",
        "\n",
        "triplets_train_loader = torch.utils.data.DataLoader(train_dataset, batch_sampler=train_batch_sampler)\n",
        "triplets_test_loader = torch.utils.data.DataLoader(test_dataset, batch_sampler=test_batch_sampler)"
      ]
    },
    {
      "attachments": {},
      "cell_type": "markdown",
      "id": "ac42b9f2",
      "metadata": {},
      "source": [
        "### Random Triple Selector"
      ]
    },
    {
      "cell_type": "code",
      "execution_count": 295,
      "id": "8672ed9c",
      "metadata": {},
      "outputs": [],
      "source": [
        "from itertools import combinations\n",
        "\n",
        "class RandomTripletSelector():\n",
        "    \"\"\"\n",
        "    Select random negative  example for  each positive pair  to create triplets\n",
        "    \"\"\"\n",
        "\n",
        "    def __init__(self):\n",
        "        super(RandomTripletSelector, self).__init__()\n",
        "\n",
        "    def get_triplets(self, embeddings, labels):\n",
        "        labels = labels.cpu().data.numpy()\n",
        "        triplets = []\n",
        "        for label in set(labels):\n",
        "            label_mask = (labels == label)\n",
        "            label_indices = np.where(label_mask)[0]\n",
        "            if len(label_indices) < 2:\n",
        "                continue\n",
        "            negative_indices = np.where(np.logical_not(label_mask))[0]\n",
        "            anchor_positives = list(combinations(label_indices, 2))  # All anchor-positive pairs\n",
        "\n",
        "            # random choose one negative example for each positive pair\n",
        "            temp_triplets = [[anchor_positive[0], anchor_positive[1], np.random.choice(negative_indices)] for anchor_positive in anchor_positives]\n",
        "            triplets += temp_triplets\n",
        "\n",
        "        return torch.LongTensor(np.array(triplets))\n"
      ]
    },
    {
      "attachments": {},
      "cell_type": "markdown",
      "id": "1b2d7d5d",
      "metadata": {},
      "source": [
        "### Triplets loss"
      ]
    },
    {
      "cell_type": "code",
      "execution_count": 296,
      "id": "19483725",
      "metadata": {},
      "outputs": [],
      "source": [
        "class TripletLoss(nn.Module):\n",
        "    \"\"\"\n",
        "    Triplets loss\n",
        "    Takes a batch of embeddings and corresponding labels.\n",
        "    Triplets are generated using triplet_selector object that take embeddings and targets and return indices of\n",
        "    triplets\n",
        "    \"\"\"\n",
        "\n",
        "    def __init__(self, margin, triplet_selector):\n",
        "        super(TripletLoss, self).__init__()\n",
        "        self.margin = margin\n",
        "        self.triplet_selector = triplet_selector\n",
        "\n",
        "    def forward(self, embeddings, target):\n",
        "\n",
        "        triplets = self.triplet_selector.get_triplets(embeddings, target)\n",
        "\n",
        "        if embeddings.is_cuda:\n",
        "            triplets = triplets.cuda()\n",
        "\n",
        "            \n",
        "        anchor_idx= triplets[:, 0]  \n",
        "        positive_idx= triplets[:, 1]  \n",
        "        \n",
        "        negative_idx= triplets[:, 2]  \n",
        "            \n",
        "            \n",
        "        ap_distances = (embeddings[anchor_idx] - embeddings[positive_idx]).pow(2).sum(1)  # .pow(.5)\n",
        "        an_distances = (embeddings[anchor_idx] - embeddings[negative_idx]).pow(2).sum(1)  # .pow(.5)\n",
        "        losses = F.relu(ap_distances - an_distances + self.margin)\n",
        "        # print(\"AP distances mean:\", ap_distances.mean())\n",
        "        # print(ap_distances)\n",
        "        # print(\"AN distances mean:\", an_distances.mean())\n",
        "        # print(an_distances)\n",
        "        # print(losses.mean())\n",
        "\n",
        "        # Calculate statistics\n",
        "        # std = torch.std(losses).item()\n",
        "        # highest = torch.max(losses).item()\n",
        "        # lowest = torch.min(losses).item()\n",
        "        # q1 = torch.quantile(losses, 0.25).item()\n",
        "        # q3 = torch.quantile(losses, 0.75).item()\n",
        "\n",
        "        # print(\"Standard Deviation:\", std)\n",
        "        # print(\"Highest Value:\", highest)\n",
        "        # print(\"Lowest Value:\", lowest)\n",
        "        # print(\"Q1:\", q1)\n",
        "        # print(\"Q3:\", q3)\n",
        "\n",
        "        return losses.mean()"
      ]
    },
    {
      "attachments": {},
      "cell_type": "markdown",
      "id": "9a3fd3bc",
      "metadata": {},
      "source": [
        "### Training the model"
      ]
    },
    {
      "cell_type": "code",
      "execution_count": 297,
      "id": "dc37381b",
      "metadata": {},
      "outputs": [],
      "source": [
        "class Train():\n",
        "    def __init__(self,\n",
        "                 model: nn.Module,\n",
        "                 device: torch.device,\n",
        "                 criterion: nn.Module,\n",
        "                 optimizer: torch.optim.Optimizer,\n",
        "                 training_DataLoader: torch.utils.data.DataLoader,\n",
        "                 validation_DataLoader: torch.utils.data.DataLoader,\n",
        "                 epochs: int,\n",
        "                ):\n",
        "        self.model = model\n",
        "        self.device = device\n",
        "        self.criterion = criterion\n",
        "        self.optimizer = optimizer\n",
        "        self.training_DataLoader = training_DataLoader\n",
        "        self.validation_DataLoader = validation_DataLoader\n",
        "        self.epochs = epochs\n",
        "\n",
        "    def run_train(self):\n",
        "\n",
        "        for epoch in tqdm(range(self.epochs)):\n",
        "\n",
        "            self.model.train()\n",
        "\n",
        "            train_losses = []\n",
        "            for batch in self.training_DataLoader:\n",
        "\n",
        "                x,y=batch\n",
        "                input, target = x.to(self.device), y.to(self.device)  # send to device (GPU or CPU)\n",
        "                self.optimizer.zero_grad()  # zerograd the parameters\n",
        "                out = self.model(input)  # one forward pass\n",
        "                loss = self.criterion(out, target)  # calculate loss\n",
        "                 \n",
        "                loss_value = loss.item()\n",
        "                train_losses.append(loss_value)\n",
        "                 \n",
        "                loss.backward()  # one backward pass\n",
        "                self.optimizer.step()  # update the parameters\n",
        "\n",
        "\n",
        "\n",
        "            self.model.eval()  # evaluation mode\n",
        "            valid_losses = []  # accumulate the losses here\n",
        "\n",
        "            for batch in self.validation_DataLoader:\n",
        "\n",
        "                x,y=batch\n",
        "                input, target = x.to(self.device), y.to(self.device)  # send to device (GPU or CPU)\n",
        "\n",
        "                with torch.no_grad():\n",
        "                    out = self.model(input)   # one forward pass\n",
        "                    loss = self.criterion(out, target) # calculate loss\n",
        "                 \n",
        "                    loss_value = loss.item()\n",
        "                    valid_losses.append(loss_value)\n",
        "\n",
        "\n",
        "                \n",
        "            # print the results\n",
        "            print(\n",
        "                f'EPOCH: {epoch+1:0>{len(str(self.epochs))}}/{self.epochs}',\n",
        "                end=' '\n",
        "            )\n",
        "            print(f'LOSS: {np.mean(train_losses):.4f}',end=' ')\n",
        "            print(f'VAL-LOSS: {np.mean(valid_losses):.4f}',end='\\n')\n"
      ]
    },
    {
      "cell_type": "code",
      "execution_count": 313,
      "id": "e796284b",
      "metadata": {},
      "outputs": [
        {
          "name": "stderr",
          "output_type": "stream",
          "text": [
            " 10%|█         | 1/10 [00:19<02:56, 19.61s/it]"
          ]
        },
        {
          "name": "stdout",
          "output_type": "stream",
          "text": [
            "EPOCH: 01/10 LOSS: 10.0046 VAL-LOSS: 9.9938\n"
          ]
        },
        {
          "name": "stderr",
          "output_type": "stream",
          "text": [
            " 20%|██        | 2/10 [00:38<02:32, 19.08s/it]"
          ]
        },
        {
          "name": "stdout",
          "output_type": "stream",
          "text": [
            "EPOCH: 02/10 LOSS: 10.0065 VAL-LOSS: 9.9768\n"
          ]
        },
        {
          "name": "stderr",
          "output_type": "stream",
          "text": [
            " 30%|███       | 3/10 [00:56<02:12, 18.88s/it]"
          ]
        },
        {
          "name": "stdout",
          "output_type": "stream",
          "text": [
            "EPOCH: 03/10 LOSS: 10.0060 VAL-LOSS: 10.0327\n"
          ]
        },
        {
          "name": "stderr",
          "output_type": "stream",
          "text": [
            " 40%|████      | 4/10 [01:19<02:01, 20.30s/it]"
          ]
        },
        {
          "name": "stdout",
          "output_type": "stream",
          "text": [
            "EPOCH: 04/10 LOSS: 9.9837 VAL-LOSS: 10.2864\n"
          ]
        },
        {
          "name": "stderr",
          "output_type": "stream",
          "text": [
            " 50%|█████     | 5/10 [01:41<01:44, 20.91s/it]"
          ]
        },
        {
          "name": "stdout",
          "output_type": "stream",
          "text": [
            "EPOCH: 05/10 LOSS: 10.0218 VAL-LOSS: 10.0119\n"
          ]
        },
        {
          "name": "stderr",
          "output_type": "stream",
          "text": [
            " 60%|██████    | 6/10 [02:00<01:21, 20.32s/it]"
          ]
        },
        {
          "name": "stdout",
          "output_type": "stream",
          "text": [
            "EPOCH: 06/10 LOSS: 10.0074 VAL-LOSS: 10.0203\n"
          ]
        },
        {
          "name": "stderr",
          "output_type": "stream",
          "text": [
            " 70%|███████   | 7/10 [02:19<00:59, 19.93s/it]"
          ]
        },
        {
          "name": "stdout",
          "output_type": "stream",
          "text": [
            "EPOCH: 07/10 LOSS: 9.9857 VAL-LOSS: 10.0112\n"
          ]
        },
        {
          "name": "stderr",
          "output_type": "stream",
          "text": [
            " 80%|████████  | 8/10 [02:38<00:39, 19.63s/it]"
          ]
        },
        {
          "name": "stdout",
          "output_type": "stream",
          "text": [
            "EPOCH: 08/10 LOSS: 9.9657 VAL-LOSS: 9.8434\n"
          ]
        },
        {
          "name": "stderr",
          "output_type": "stream",
          "text": [
            " 90%|█████████ | 9/10 [02:57<00:19, 19.48s/it]"
          ]
        },
        {
          "name": "stdout",
          "output_type": "stream",
          "text": [
            "EPOCH: 09/10 LOSS: 10.0509 VAL-LOSS: 9.9509\n"
          ]
        },
        {
          "name": "stderr",
          "output_type": "stream",
          "text": [
            "100%|██████████| 10/10 [03:17<00:00, 19.70s/it]"
          ]
        },
        {
          "name": "stdout",
          "output_type": "stream",
          "text": [
            "EPOCH: 10/10 LOSS: 9.9927 VAL-LOSS: 10.0166\n"
          ]
        },
        {
          "name": "stderr",
          "output_type": "stream",
          "text": [
            "\n"
          ]
        }
      ],
      "source": [
        "if torch.cuda.is_available():\n",
        "    device = torch.device('cuda')\n",
        "\n",
        "else:\n",
        "    device = torch.device('cpu')\n",
        "\n",
        "model= EmbeddingNet().to(device)\n",
        "# model_task1_state.pop(\"lin2.weight\", None)\n",
        "# model_task1_state.pop(\"lin2.bias\", None)\n",
        "# model.load_state_dict(model_task1_state)\n",
        "\n",
        "criterion = TripletLoss(margin=10, triplet_selector=RandomTripletSelector())\n",
        "optimizer = torch.optim.Adam(model.parameters())\n",
        "\n",
        "trainer= Train(model=model,\n",
        "               device=device,\n",
        "               criterion=criterion,\n",
        "               optimizer=optimizer,\n",
        "               training_DataLoader=triplets_train_loader,\n",
        "               validation_DataLoader=triplets_test_loader,\n",
        "               epochs=10)\n",
        "\n",
        "trainer.run_train()\n"
      ]
    },
    {
      "attachments": {},
      "cell_type": "markdown",
      "id": "79dfbdef",
      "metadata": {},
      "source": [
        "### Extract the embeddings"
      ]
    },
    {
      "cell_type": "code",
      "execution_count": 315,
      "id": "3bab90fb",
      "metadata": {},
      "outputs": [],
      "source": [
        "train_loader = torch.utils.data.DataLoader(train_dataset, batch_size=256)\n",
        "test_loader = torch.utils.data.DataLoader(test_dataset, batch_size=256)\n",
        "\n",
        "def extract_embeddings(dataloader, model):\n",
        "    \n",
        "    cuda = torch.cuda.is_available()\n",
        "    with torch.no_grad():\n",
        "        model.eval()\n",
        "        embeddings = np.zeros((len(dataloader.dataset), 64))\n",
        "        labels = np.zeros(len(dataloader.dataset))\n",
        "        k = 0\n",
        "        for images, target in dataloader:\n",
        "            if cuda:\n",
        "                images = images.cuda()\n",
        "            embeddings[k:k+len(images)] = model.get_embedding(images).data.cpu().numpy()\n",
        "            labels[k:k+len(images)] = target.numpy()\n",
        "            k += len(images)\n",
        "    return embeddings, labels\n",
        "\n",
        "train_embeddings, train_labels = extract_embeddings(train_loader, model)\n",
        "val_embeddings, val_labels = extract_embeddings(test_loader, model)"
      ]
    },
    {
      "attachments": {},
      "cell_type": "markdown",
      "id": "7dc08b57",
      "metadata": {},
      "source": [
        "### TSNE does not show any interesting pattern  "
      ]
    },
    {
      "cell_type": "code",
      "execution_count": 316,
      "id": "4daab90f",
      "metadata": {},
      "outputs": [
        {
          "data": {
            "image/png": "[encoded data removed]",
            "text/plain": [
              "<Figure size 1000x1000 with 1 Axes>"
            ]
          },
          "metadata": {},
          "output_type": "display_data"
        }
      ],
      "source": [
        "from sklearn.manifold import TSNE\n",
        "def plot_tsne_embeddings(embeddings, targets, xlim=None, ylim=None):\n",
        "    \n",
        "    \n",
        "    # The first 3000 embeddings and targets\n",
        "    embeddings= embeddings[:3000]\n",
        "    targets= targets[:3000]\n",
        "\n",
        "    # Using Tsne to for dimension reduction \n",
        "    tsne = TSNE(n_components=2)\n",
        "    embeddings = tsne.fit_transform(embeddings)\n",
        "    \n",
        "    # Plot\n",
        "    plt.figure(figsize=(10,10))\n",
        "    for i in range(10):\n",
        "        inds = np.where(targets==i)[0]\n",
        "        plt.scatter(embeddings[inds,0], embeddings[inds,1], alpha=0.5)\n",
        "    if xlim:\n",
        "        plt.xlim(xlim[0], xlim[1])\n",
        "    if ylim:\n",
        "        plt.ylim(ylim[0], ylim[1])\n",
        "    plt.legend(np.unique(targets))\n",
        "\n",
        "plot_tsne_embeddings(train_embeddings, train_labels) \n",
        "#plot_tsne_embeddings(val_embeddings, val_labels)"
      ]
    },
    {
      "cell_type": "code",
      "execution_count": 317,
      "id": "ce7660db",
      "metadata": {},
      "outputs": [],
      "source": [
        "#Helper function to compute Euclidean distance\n",
        "\n",
        "def pdist(vectors):\n",
        "    distance_matrix = -2 * vectors.mm(torch.t(vectors)) + vectors.pow(2).sum(dim=1).view(1, -1) + vectors.pow(2).sum(\n",
        "        dim=1).view(-1, 1)\n",
        "    return distance_matrix"
      ]
    },
    {
      "cell_type": "code",
      "execution_count": 318,
      "id": "1626c43d",
      "metadata": {},
      "outputs": [],
      "source": [
        "\n",
        "class Informative_Negative_TripletSelector():\n",
        "\n",
        "    def __init__(self, margin, loss_margin):\n",
        "        super(Informative_Negative_TripletSelector, self).__init__()\n",
        "  \n",
        "        self.margin = margin\n",
        "        self.loss_margin = loss_margin\n",
        "  \n",
        "   # Our goal is to mining informative triplets.\n",
        "    def informative_negative(self, loss_values):\n",
        "        \n",
        "        informative_negative = np.where(loss_values > self.loss_margin)[0]\n",
        "        return np.random.choice(informative_negative) if len(informative_negative) > 0 else None\n",
        "\n",
        "\n",
        "    def get_triplets(self, embeddings, labels):\n",
        "        \n",
        "        if torch.cuda.is_available()==False:\n",
        "            embeddings = embeddings.cpu()\n",
        "        distance_matrix = pdist(embeddings)\n",
        "        distance_matrix = distance_matrix.cpu()\n",
        "\n",
        "        labels = labels.cpu().data.numpy()\n",
        "        triplets = []\n",
        "           \n",
        "        for label in set(labels):\n",
        "            label_mask = (labels == label)\n",
        "            label_indices = np.where(label_mask)[0]\n",
        "            if len(label_indices) < 2:\n",
        "                continue\n",
        "            negative_indices = np.where(np.logical_not(label_mask))[0]\n",
        "            anchor_positives = list(combinations(label_indices, 2))  # All anchor-positive pairs\n",
        "            anchor_positives = np.array(anchor_positives)\n",
        "\n",
        "            \n",
        "            ap_distances = distance_matrix[anchor_positives[:, 0], anchor_positives[:, 1]]\n",
        "            for anchor_positive, ap_distance in zip(anchor_positives, ap_distances):\n",
        "                loss_values = ap_distance - distance_matrix[torch.LongTensor(np.array([anchor_positive[0]])), torch.LongTensor(negative_indices)] + self.margin\n",
        "                loss_values = loss_values.data.cpu().numpy()\n",
        "                \n",
        "                hard_negative = self.informative_negative(loss_values)\n",
        "                if hard_negative is not None:\n",
        "                    hard_negative = negative_indices[hard_negative]\n",
        "                    triplets.append([anchor_positive[0], anchor_positive[1], hard_negative])\n",
        "\n",
        "        if len(triplets) == 0:\n",
        "            triplets.append([anchor_positive[0], anchor_positive[1], negative_indices[0]])\n",
        "\n",
        "        triplets = np.array(triplets)\n",
        "        \n",
        "        return torch.LongTensor(triplets)\n",
        "        "
      ]
    },
    {
      "cell_type": "code",
      "execution_count": 319,
      "id": "51218e23",
      "metadata": {},
      "outputs": [
        {
          "name": "stderr",
          "output_type": "stream",
          "text": [
            " 20%|██        | 1/5 [00:20<01:22, 20.71s/it]"
          ]
        },
        {
          "name": "stdout",
          "output_type": "stream",
          "text": [
            "EPOCH: 1/5 LOSS: 9.9936 VAL-LOSS: 10.0192\n"
          ]
        },
        {
          "name": "stderr",
          "output_type": "stream",
          "text": [
            " 40%|████      | 2/5 [00:40<01:01, 20.37s/it]"
          ]
        },
        {
          "name": "stdout",
          "output_type": "stream",
          "text": [
            "EPOCH: 2/5 LOSS: 10.0077 VAL-LOSS: 10.0094\n"
          ]
        },
        {
          "name": "stderr",
          "output_type": "stream",
          "text": [
            " 60%|██████    | 3/5 [01:00<00:40, 20.22s/it]"
          ]
        },
        {
          "name": "stdout",
          "output_type": "stream",
          "text": [
            "EPOCH: 3/5 LOSS: 9.9804 VAL-LOSS: 10.0208\n"
          ]
        },
        {
          "name": "stderr",
          "output_type": "stream",
          "text": [
            " 80%|████████  | 4/5 [01:21<00:20, 20.20s/it]"
          ]
        },
        {
          "name": "stdout",
          "output_type": "stream",
          "text": [
            "EPOCH: 4/5 LOSS: 9.9987 VAL-LOSS: 9.9821\n"
          ]
        },
        {
          "name": "stderr",
          "output_type": "stream",
          "text": [
            "100%|██████████| 5/5 [01:41<00:00, 20.22s/it]"
          ]
        },
        {
          "name": "stdout",
          "output_type": "stream",
          "text": [
            "EPOCH: 5/5 LOSS: 9.9927 VAL-LOSS: 10.0079\n"
          ]
        },
        {
          "name": "stderr",
          "output_type": "stream",
          "text": [
            "\n"
          ]
        }
      ],
      "source": [
        "# device\n",
        "if torch.cuda.is_available():\n",
        "    device = torch.device('cuda')\n",
        "    print('GPU is available')\n",
        "else:\n",
        "    device=torch.device('cpu')\n",
        "    \n",
        "# model\n",
        "mined_embedding_net = EmbeddingNet()\n",
        "mined_model = mined_embedding_net.to(device)\n",
        "\n",
        "\n",
        "# margin value\n",
        "margin=10\n",
        "\n",
        "# criterion\n",
        "criterion = TripletLoss(margin,  Informative_Negative_TripletSelector(margin, 0.2))\n",
        "\n",
        "# optimizer\n",
        "optimizer = torch.optim.Adam(model.parameters())\n",
        "\n",
        "# trainer\n",
        "trainer = Train(model=mined_model,\n",
        "                  device=device,\n",
        "                  criterion=criterion,\n",
        "                  optimizer=optimizer,\n",
        "                  training_DataLoader=triplets_train_loader,\n",
        "                  validation_DataLoader=triplets_test_loader,\n",
        "                  epochs=5)\n",
        "\n",
        "# start training\n",
        "trainer.run_train()"
      ]
    },
    {
      "cell_type": "code",
      "execution_count": 320,
      "id": "203bd0c9",
      "metadata": {},
      "outputs": [],
      "source": [
        "# # device\n",
        "# if torch.cuda.is_available():\n",
        "#     device = torch.device('cuda')\n",
        "#     print('GPU is available')\n",
        "# else:\n",
        "#     device=torch.device('cpu')\n",
        "    \n",
        "# # train_embeddings, train_labels = extract_embeddings(train_loader, model)\n",
        "# # val_embeddings, val_labels = extract_embeddings(test_loader, model)\n",
        "\n",
        "# # model\n",
        "# hard_mined_embedding_net = EmbeddingNet()\n",
        "# hard_mined_model = hard_mined_embedding_net.to(device)\n",
        "\n",
        "\n",
        "# # margin value\n",
        "# margin=10\n",
        "\n",
        "# # criterion\n",
        "# criterion = TripletLoss(margin,  Informative_Negative_TripletSelector(margin, 5))\n",
        "\n",
        "# # optimizer\n",
        "# optimizer = torch.optim.Adam(model.parameters())\n",
        "\n",
        "# # trainer\n",
        "# trainer = Train(model=hard_mined_model,\n",
        "#                   device=device,\n",
        "#                   criterion=criterion,\n",
        "#                   optimizer=optimizer,\n",
        "#                   training_DataLoader=triplets_train_loader,\n",
        "#                   validation_DataLoader=triplets_test_loader,\n",
        "#                   epochs=5)\n",
        "\n",
        "# # start training\n",
        "# trainer.run_train()"
      ]
    },
    {
      "cell_type": "code",
      "execution_count": 321,
      "id": "7524b937",
      "metadata": {},
      "outputs": [],
      "source": [
        "# Average Precision\n",
        "def average_precision(sorted_class_vals, true_class):\n",
        "    ind = sorted_class_vals == true_class\n",
        "    num_positive = np.sum(ind)\n",
        "    cum_ind = np.cumsum(ind).astype(np.float32)\n",
        "    enum = np.array(range(1, len(ind)+1)).astype(np.float32)\n",
        "    return np.sum(cum_ind * ind / enum) / num_positive"
      ]
    },
    {
      "cell_type": "code",
      "execution_count": 322,
      "id": "fd0cc1db-e473-412e-b6b8-c95adc5438dd",
      "metadata": {
        "id": "fd0cc1db-e473-412e-b6b8-c95adc5438dd"
      },
      "outputs": [],
      "source": [
        "# function to determine performance of model\n",
        "def query_performance(queries, targets, gt, model, top=1):\n",
        "    assert top >= 1\n",
        "    cnt = 0\n",
        "\n",
        "    #convert to torch tensors\n",
        "    queries= torch.tensor(queries)\n",
        "    targets= torch.tensor(targets)\n",
        "\n",
        "    q = queries.float()\n",
        "    t = targets.float()\n",
        "\n",
        "    with torch.no_grad():\n",
        "        \n",
        "        \n",
        "        ### MODIFY IF NECESSARY ###\n",
        "        #set model to evaluation mode\n",
        "        model.eval()\n",
        "\n",
        "        #For each query, compute embeddings for both query and 4 targets and store them in the most efficient way\n",
        "        emb_q = model(q).cpu().numpy()\n",
        "        emb_t=np.empty((len(queries),1,4,64)) #embedding shape\n",
        "        for i in range(len(queries)):\n",
        "            emb_t_ind=model(t[i]).cpu().numpy()\n",
        "            emb_t_ind = np.expand_dims(emb_t_ind, axis=0)\n",
        "            emb_t[i]=emb_t_ind\n",
        "                \n",
        "        for i in range(len(queries)):  \n",
        "            dist = cdist(np.expand_dims(emb_q[i],axis=0), np.concatenate(emb_t[i]))\n",
        "        \n",
        "            if top == 1:\n",
        "                pred = np.argmin(dist)\n",
        "\n",
        "            if pred == gt[i]:\n",
        "                cnt += 1\n",
        "        \n",
        "            else:\n",
        "                pred = np.argsort(dist)\n",
        "                if gt[i] in pred[0,:top].tolist():\n",
        "                    cnt+=1\n",
        "\n",
        "    return (100*cnt/gt.shape[0])"
      ]
    },
    {
      "cell_type": "code",
      "execution_count": 323,
      "id": "413dfdbe",
      "metadata": {},
      "outputs": [],
      "source": [
        "performance_mined = query_performance(queries, targets, gt, model = mined_model)"
      ]
    },
    {
      "cell_type": "code",
      "execution_count": 324,
      "id": "df487434",
      "metadata": {},
      "outputs": [
        {
          "data": {
            "text/plain": [
              "61.666666666666664"
            ]
          },
          "execution_count": 324,
          "metadata": {},
          "output_type": "execute_result"
        }
      ],
      "source": [
        "performance_mined "
      ]
    },
    {
      "cell_type": "code",
      "execution_count": 325,
      "id": "b99f0f60",
      "metadata": {},
      "outputs": [],
      "source": [
        "performance = query_performance(queries, targets, gt, model)"
      ]
    },
    {
      "cell_type": "code",
      "execution_count": 326,
      "id": "b1f0a240",
      "metadata": {},
      "outputs": [
        {
          "data": {
            "text/plain": [
              "20.0"
            ]
          },
          "execution_count": 326,
          "metadata": {},
          "output_type": "execute_result"
        }
      ],
      "source": [
        "performance"
      ]
    },
    {
      "cell_type": "code",
      "execution_count": null,
      "id": "51b12e3f",
      "metadata": {},
      "outputs": [],
      "source": []
    }
  ],
  "metadata": {
    "accelerator": "GPU",
    "colab": {
      "gpuType": "T4",
      "provenance": []
    },
    "gpuClass": "standard",
    "kernelspec": {
      "display_name": "Python 3 (ipykernel)",
      "language": "python",
      "name": "python3"
    },
    "language_info": {
      "codemirror_mode": {
        "name": "ipython",
        "version": 3
      },
      "file_extension": ".py",
      "mimetype": "text/x-python",
      "name": "python",
      "nbconvert_exporter": "python",
      "pygments_lexer": "ipython3",
      "version": "3.10.8"
    }
  },
  "nbformat": 4,
  "nbformat_minor": 5
}
