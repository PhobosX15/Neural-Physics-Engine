{
  "cells": [
    {
      "cell_type": "markdown",
      "id": "a4ec9a11-3515-40aa-97ac-73c249df560e",
      "metadata": {
        "id": "a4ec9a11-3515-40aa-97ac-73c249df560e"
      },
      "source": [
        "# Group Number:\n",
        "# Student 1:\n",
        "# Student 2:\n",
        "# Student 3:"
      ]
    },
    {
      "cell_type": "markdown",
      "id": "a8c200a7-b3ab-4c9a-bcf8-320271c040f3",
      "metadata": {
        "id": "a8c200a7-b3ab-4c9a-bcf8-320271c040f3"
      },
      "source": [
        "In case you are using google colab, uncomment the following cell, and modify the ```notebook_dir``` variable to contain the directory this notebook is in. It will automatically download the .py files needed for this assignment"
      ]
    },
    {
      "cell_type": "code",
      "execution_count": 1,
      "id": "igFRsZKIC18S",
      "metadata": {
        "id": "igFRsZKIC18S"
      },
      "outputs": [],
      "source": [
        "# # Change the following  line to the directory this notebook is (if using colab)\n",
        "# # In case you do not know the path, open the file navigator on the left in colab\n",
        "# # Find the folder containing this notebook, then press on the three dots --> copy path\n",
        "notebook_dir = \"/content/drive/MyDrive/TUe/DeepLearning\""
      ]
    },
    {
      "cell_type": "code",
      "execution_count": 2,
      "id": "828246d4-75b2-42b7-ab06-925e6624f411",
      "metadata": {
        "id": "828246d4-75b2-42b7-ab06-925e6624f411",
        "colab": {
          "base_uri": "https://localhost:8080/"
        },
        "outputId": "999fdc39-75eb-417a-b2ee-17aace085b98"
      },
      "outputs": [
        {
          "output_type": "stream",
          "name": "stdout",
          "text": [
            "Mounted at /content/drive\n"
          ]
        }
      ],
      "source": [
        "# # UNCOMMENT IF USING COLAB\n",
        "from google.colab import drive\n",
        "import requests\n",
        "drive.mount('/content/drive')\n",
        "import sys\n",
        "import os\n",
        "sys.path.insert(0, notebook_dir) \n",
        "os.chdir(notebook_dir)\n",
        "symco = \"https://github.com/vlamen/tue-deeplearning/blob/main/assignments/assignment_1/symconv.py?raw=true\"\n",
        "crpt = \"https://github.com/vlamen/tue-deeplearning/blob/main/assignments/assignment_1/carpet.py?raw=true\"\n",
        "r_s = requests.get(symco, allow_redirects=True)\n",
        "r_c = requests.get(crpt, allow_redirects=True)\n",
        "with open('symconv.py', 'wb') as f:\n",
        "    f.write(r_s.content)\n",
        "with open('carpet.py', 'wb') as f:\n",
        "    f.write(r_c.content)"
      ]
    },
    {
      "cell_type": "code",
      "execution_count": 3,
      "id": "1c401bd6-3828-4f5e-ada8-a026e0a167bf",
      "metadata": {
        "id": "1c401bd6-3828-4f5e-ada8-a026e0a167bf"
      },
      "outputs": [],
      "source": [
        "import torch\n",
        "import torch.nn as nn\n",
        "import torch.nn.functional as F\n",
        "from torch.utils.data import DataLoader, Dataset, TensorDataset\n",
        "\n",
        "import io\n",
        "import requests\n",
        "\n",
        "import symconv as sc\n",
        "from carpet import show_carpet, oh_to_label\n",
        "\n",
        "import numpy as np\n",
        "import matplotlib.pyplot as plt\n",
        "\n",
        "from scipy.spatial.distance import cdist\n",
        "\n",
        "from tqdm import tqdm"
      ]
    },
    {
      "cell_type": "code",
      "source": [
        "if torch.cuda.is_available():\n",
        "    device = torch.device('cuda')\n",
        "else:\n",
        "    device=torch.device('cpu')"
      ],
      "metadata": {
        "id": "gD5Y021EjRq6"
      },
      "id": "gD5Y021EjRq6",
      "execution_count": 4,
      "outputs": []
    },
    {
      "cell_type": "code",
      "execution_count": 5,
      "id": "35c0bcb8-5215-40b3-8ba2-7e4208651c90",
      "metadata": {
        "id": "35c0bcb8-5215-40b3-8ba2-7e4208651c90"
      },
      "outputs": [],
      "source": [
        "def load_numpy_arr_from_url(url):\n",
        "    \"\"\"\n",
        "    Loads a numpy array from surfdrive. \n",
        "    \n",
        "    Input:\n",
        "    url: Download link of dataset \n",
        "    \n",
        "    Outputs:\n",
        "    dataset: numpy array with input features or labels\n",
        "    \"\"\"\n",
        "    \n",
        "    response = requests.get(url)\n",
        "    response.raise_for_status()\n",
        "\n",
        "    return np.load(io.BytesIO(response.content)) "
      ]
    },
    {
      "cell_type": "markdown",
      "id": "045a1fdc-8c84-4829-b8c8-14c957f733f6",
      "metadata": {
        "id": "045a1fdc-8c84-4829-b8c8-14c957f733f6"
      },
      "source": [
        "# Task 1: Pattern Classification"
      ]
    },
    {
      "cell_type": "code",
      "execution_count": 6,
      "id": "a45b63ab-610e-4e03-b1da-a717c2a77c8a",
      "metadata": {
        "id": "a45b63ab-610e-4e03-b1da-a717c2a77c8a",
        "colab": {
          "base_uri": "https://localhost:8080/"
        },
        "outputId": "a08c590f-6b01-4564-c87b-2f44dd0b9f76"
      },
      "outputs": [
        {
          "output_type": "stream",
          "name": "stdout",
          "text": [
            "Carpet train shape: torch.Size([7500, 1, 96, 60])\n",
            "Label train shape: torch.Size([7500, 3])\n",
            "Carpet validation shape: torch.Size([2000, 1, 96, 60])\n",
            "Label validation shape: torch.Size([2000, 3])\n",
            "Carpet test shape: torch.Size([500, 1, 96, 60])\n",
            "Label test shape: torch.Size([500, 3])\n"
          ]
        }
      ],
      "source": [
        "# loading training and testing data for task 1\n",
        "# DO NOT MODIFY\n",
        "task1 = load_numpy_arr_from_url(\"https://github.com/vlamen/tue-deeplearning/blob/main/assignments/assignment_1/task1data.npz?raw=true\")\n",
        "# task1 = np.load(\"task1data.npz\")\n",
        "\n",
        "X = torch.tensor(task1['arr_0']).float()\n",
        "y = torch.tensor(task1['arr_1']).float()\n",
        "\n",
        "X_train = X[:7500]\n",
        "X_val = X[7500:9500]\n",
        "X_test = X[9500:]\n",
        "y_train = y[:7500]\n",
        "y_val = y[7500:9500]\n",
        "y_test  = y[9500:]\n",
        "\n",
        "train_dataset = TensorDataset(X_train, y_train)\n",
        "val_dataset = TensorDataset(X_val, y_val)\n",
        "test_dataset = TensorDataset(X_test, y_test)\n",
        "\n",
        "\n",
        "print(f\"Carpet train shape: {X_train.shape}\")\n",
        "print(f\"Label train shape: {y_train.shape}\")\n",
        "print(f\"Carpet validation shape: {X_val.shape}\")\n",
        "print(f\"Label validation shape: {y_val.shape}\")\n",
        "print(f\"Carpet test shape: {X_test.shape}\")\n",
        "print(f\"Label test shape: {y_test.shape}\")"
      ]
    },
    {
      "cell_type": "code",
      "execution_count": 7,
      "id": "a4c5553f-023f-48fc-81b5-83184a46a21d",
      "metadata": {
        "id": "a4c5553f-023f-48fc-81b5-83184a46a21d",
        "colab": {
          "base_uri": "https://localhost:8080/",
          "height": 302
        },
        "outputId": "9fed8192-1851-452e-f85d-cdf9e1e3d188"
      },
      "outputs": [
        {
          "output_type": "stream",
          "name": "stdout",
          "text": [
            "Carpet from Convolushahr\n"
          ]
        },
        {
          "output_type": "display_data",
          "data": {
            "text/plain": [
              "<Figure size 640x480 with 1 Axes>"
            ],
            "image/png": "[encoded data removed]"
          },
          "metadata": {}
        }
      ],
      "source": [
        "# random carpet\n",
        "idx = np.random.randint(0,7500)\n",
        "show_carpet(X_train, idx)\n",
        "print('Carpet from', oh_to_label(y_train[idx,None])[0])"
      ]
    },
    {
      "cell_type": "code",
      "source": [
        "train_dataloader = DataLoader(train_dataset, batch_size=32, shuffle=True)\n",
        "\n",
        "valid_dataloader = DataLoader(val_dataset, batch_size=32, shuffle=False)"
      ],
      "metadata": {
        "id": "DjMXGaWwYwtT"
      },
      "id": "DjMXGaWwYwtT",
      "execution_count": 8,
      "outputs": []
    },
    {
      "cell_type": "code",
      "source": [
        "class SymModel(nn.Module):\n",
        "    def __init__(self):\n",
        "        super().__init__()\n",
        "\n",
        "        self.rot_slc = sc.Slice(rotation=4, reflection=False)\n",
        "        self.convs = nn.Sequential(\n",
        "            sc.SymmetryConv2d(in_filters=1, out_filters=16, kernel_size=4, stride=4, rotation=4, reflection=False),\n",
        "            nn.ReLU(),\n",
        "            sc.SymmetryPool(),\n",
        "            nn.Conv2d(16, 32, kernel_size=3, stride=3),\n",
        "            nn.ReLU(),\n",
        "            nn.Conv2d(32, 32, kernel_size=3, stride=1),\n",
        "            nn.ReLU()\n",
        "            )\n",
        "        self.pool = sc.SymmetryPool()\n",
        "        self.lin1 = nn.Linear(576, 64)\n",
        "        self.lin2 = nn.Linear(64, 3)\n",
        "        \n",
        "    def forward(self, x):\n",
        "        x = self.rot_slc(x)\n",
        "        x = self.convs(x)\n",
        "        x = torch.flatten(x, start_dim=1)\n",
        "        x = self.lin1(torch.flatten(x, start_dim=1))\n",
        "        x = self.lin2(x)\n",
        "\n",
        "        return x"
      ],
      "metadata": {
        "id": "D-nBJ7IhL4Qz"
      },
      "id": "D-nBJ7IhL4Qz",
      "execution_count": 9,
      "outputs": []
    },
    {
      "cell_type": "code",
      "source": [
        "model = SymModel().to(device)"
      ],
      "metadata": {
        "id": "v-yz4I6QZ8IR"
      },
      "id": "v-yz4I6QZ8IR",
      "execution_count": 14,
      "outputs": []
    },
    {
      "cell_type": "code",
      "source": [
        "optimizer = torch.optim.Adam(model.parameters(), lr=1e-4)\n",
        "\n",
        "criterion = nn.CrossEntropyLoss()"
      ],
      "metadata": {
        "id": "LJ2PUjtZZyvB"
      },
      "id": "LJ2PUjtZZyvB",
      "execution_count": 15,
      "outputs": []
    },
    {
      "cell_type": "code",
      "source": [
        "EPOCHS = 30\n",
        "\n",
        "for epoch in tqdm(range(EPOCHS)):\n",
        "    \n",
        "    model.train()\n",
        "    \n",
        "    train_losses = []\n",
        "\n",
        "    train_acc, train_count = 0, 0\n",
        "\n",
        "    for batch in train_dataloader:\n",
        "        x, y = batch\n",
        "        input, labels = x.to(device), y.to(device)\n",
        "\n",
        "        optimizer.zero_grad()\n",
        "\n",
        "        output = model(input)\n",
        "        loss = criterion(output, labels)\n",
        "\n",
        "        loss.backward()\n",
        "        optimizer.step()\n",
        "\n",
        "        train_acc += (labels.argmax(dim=-1) == output.argmax(dim=-1)).sum().item()\n",
        "\n",
        "        train_count += labels.size(0)\n",
        "\n",
        "    model.eval()\n",
        "\n",
        "    valid_acc, valid_count = 0, 0\n",
        "\n",
        "\n",
        "    for batch in valid_dataloader:\n",
        "\n",
        "        x, y = batch\n",
        "        input, labels = x.to(device), y.to(device)\n",
        "\n",
        "        with torch.no_grad():\n",
        "            output = model(input)\n",
        "            \n",
        "            valid_acc += (labels.argmax(dim=-1) == output.argmax(dim=-1)).sum().item()\n",
        "\n",
        "            valid_count += labels.size(0)\n",
        "\n",
        "\n",
        "\n",
        "    print(f'Train acc: {train_acc / train_count:.4f}',end=' ')\n",
        "    print(f'Val acc: {valid_acc / valid_count:.4f}',end='\\n')"
      ],
      "metadata": {
        "colab": {
          "base_uri": "https://localhost:8080/"
        },
        "id": "2X-AzMQRZDn5",
        "outputId": "73a5704a-da2a-4ad0-d95f-6d84dee3c8e7"
      },
      "id": "2X-AzMQRZDn5",
      "execution_count": 16,
      "outputs": [
        {
          "output_type": "stream",
          "name": "stderr",
          "text": [
            "  3%|▎         | 1/30 [00:07<03:33,  7.35s/it]"
          ]
        },
        {
          "output_type": "stream",
          "name": "stdout",
          "text": [
            "Train acc: 0.3456 Val acc: 0.3880\n"
          ]
        },
        {
          "output_type": "stream",
          "name": "stderr",
          "text": [
            "\r  7%|▋         | 2/30 [00:15<03:39,  7.84s/it]"
          ]
        },
        {
          "output_type": "stream",
          "name": "stdout",
          "text": [
            "Train acc: 0.4111 Val acc: 0.5180\n"
          ]
        },
        {
          "output_type": "stream",
          "name": "stderr",
          "text": [
            "\r 10%|█         | 3/30 [00:23<03:29,  7.76s/it]"
          ]
        },
        {
          "output_type": "stream",
          "name": "stdout",
          "text": [
            "Train acc: 0.5789 Val acc: 0.7140\n"
          ]
        },
        {
          "output_type": "stream",
          "name": "stderr",
          "text": [
            "\r 13%|█▎        | 4/30 [00:31<03:24,  7.87s/it]"
          ]
        },
        {
          "output_type": "stream",
          "name": "stdout",
          "text": [
            "Train acc: 0.8144 Val acc: 0.9095\n"
          ]
        },
        {
          "output_type": "stream",
          "name": "stderr",
          "text": [
            "\r 17%|█▋        | 5/30 [00:39<03:19,  7.97s/it]"
          ]
        },
        {
          "output_type": "stream",
          "name": "stdout",
          "text": [
            "Train acc: 0.9408 Val acc: 0.9635\n"
          ]
        },
        {
          "output_type": "stream",
          "name": "stderr",
          "text": [
            "\r 20%|██        | 6/30 [00:46<03:06,  7.76s/it]"
          ]
        },
        {
          "output_type": "stream",
          "name": "stdout",
          "text": [
            "Train acc: 0.9793 Val acc: 0.9755\n"
          ]
        },
        {
          "output_type": "stream",
          "name": "stderr",
          "text": [
            "\r 23%|██▎       | 7/30 [00:54<03:00,  7.84s/it]"
          ]
        },
        {
          "output_type": "stream",
          "name": "stdout",
          "text": [
            "Train acc: 0.9895 Val acc: 0.9925\n"
          ]
        },
        {
          "output_type": "stream",
          "name": "stderr",
          "text": [
            "\r 27%|██▋       | 8/30 [01:02<02:48,  7.66s/it]"
          ]
        },
        {
          "output_type": "stream",
          "name": "stdout",
          "text": [
            "Train acc: 0.9955 Val acc: 0.9965\n"
          ]
        },
        {
          "output_type": "stream",
          "name": "stderr",
          "text": [
            "\r 30%|███       | 9/30 [01:10<02:48,  8.04s/it]"
          ]
        },
        {
          "output_type": "stream",
          "name": "stdout",
          "text": [
            "Train acc: 0.9961 Val acc: 0.9965\n"
          ]
        },
        {
          "output_type": "stream",
          "name": "stderr",
          "text": [
            "\r 33%|███▎      | 10/30 [01:19<02:42,  8.13s/it]"
          ]
        },
        {
          "output_type": "stream",
          "name": "stdout",
          "text": [
            "Train acc: 0.9975 Val acc: 0.9965\n"
          ]
        },
        {
          "output_type": "stream",
          "name": "stderr",
          "text": [
            "\r 37%|███▋      | 11/30 [01:26<02:31,  7.99s/it]"
          ]
        },
        {
          "output_type": "stream",
          "name": "stdout",
          "text": [
            "Train acc: 0.9984 Val acc: 0.9990\n"
          ]
        },
        {
          "output_type": "stream",
          "name": "stderr",
          "text": [
            "\r 40%|████      | 12/30 [01:35<02:26,  8.11s/it]"
          ]
        },
        {
          "output_type": "stream",
          "name": "stdout",
          "text": [
            "Train acc: 0.9995 Val acc: 0.9970\n"
          ]
        },
        {
          "output_type": "stream",
          "name": "stderr",
          "text": [
            "\r 43%|████▎     | 13/30 [01:42<02:14,  7.89s/it]"
          ]
        },
        {
          "output_type": "stream",
          "name": "stdout",
          "text": [
            "Train acc: 0.9999 Val acc: 0.9980\n"
          ]
        },
        {
          "output_type": "stream",
          "name": "stderr",
          "text": [
            "\r 47%|████▋     | 14/30 [01:50<02:07,  7.97s/it]"
          ]
        },
        {
          "output_type": "stream",
          "name": "stdout",
          "text": [
            "Train acc: 0.9999 Val acc: 0.9980\n"
          ]
        },
        {
          "output_type": "stream",
          "name": "stderr",
          "text": [
            "\r 50%|█████     | 15/30 [01:57<01:54,  7.66s/it]"
          ]
        },
        {
          "output_type": "stream",
          "name": "stdout",
          "text": [
            "Train acc: 0.9999 Val acc: 0.9980\n"
          ]
        },
        {
          "output_type": "stream",
          "name": "stderr",
          "text": [
            "\r 53%|█████▎    | 16/30 [02:06<01:49,  7.85s/it]"
          ]
        },
        {
          "output_type": "stream",
          "name": "stdout",
          "text": [
            "Train acc: 1.0000 Val acc: 0.9985\n"
          ]
        },
        {
          "output_type": "stream",
          "name": "stderr",
          "text": [
            "\r 57%|█████▋    | 17/30 [02:13<01:39,  7.66s/it]"
          ]
        },
        {
          "output_type": "stream",
          "name": "stdout",
          "text": [
            "Train acc: 0.9996 Val acc: 0.9980\n"
          ]
        },
        {
          "output_type": "stream",
          "name": "stderr",
          "text": [
            "\r 60%|██████    | 18/30 [02:21<01:34,  7.86s/it]"
          ]
        },
        {
          "output_type": "stream",
          "name": "stdout",
          "text": [
            "Train acc: 0.9997 Val acc: 0.9960\n"
          ]
        },
        {
          "output_type": "stream",
          "name": "stderr",
          "text": [
            "\r 63%|██████▎   | 19/30 [02:29<01:27,  7.99s/it]"
          ]
        },
        {
          "output_type": "stream",
          "name": "stdout",
          "text": [
            "Train acc: 1.0000 Val acc: 0.9995\n"
          ]
        },
        {
          "output_type": "stream",
          "name": "stderr",
          "text": [
            "\r 67%|██████▋   | 20/30 [02:36<01:16,  7.65s/it]"
          ]
        },
        {
          "output_type": "stream",
          "name": "stdout",
          "text": [
            "Train acc: 0.9999 Val acc: 0.9955\n"
          ]
        },
        {
          "output_type": "stream",
          "name": "stderr",
          "text": [
            "\r 70%|███████   | 21/30 [02:45<01:12,  8.00s/it]"
          ]
        },
        {
          "output_type": "stream",
          "name": "stdout",
          "text": [
            "Train acc: 0.9997 Val acc: 0.9990\n"
          ]
        },
        {
          "output_type": "stream",
          "name": "stderr",
          "text": [
            "\r 73%|███████▎  | 22/30 [02:52<01:01,  7.71s/it]"
          ]
        },
        {
          "output_type": "stream",
          "name": "stdout",
          "text": [
            "Train acc: 1.0000 Val acc: 0.9980\n"
          ]
        },
        {
          "output_type": "stream",
          "name": "stderr",
          "text": [
            "\r 77%|███████▋  | 23/30 [03:01<00:55,  7.93s/it]"
          ]
        },
        {
          "output_type": "stream",
          "name": "stdout",
          "text": [
            "Train acc: 1.0000 Val acc: 0.9985\n"
          ]
        },
        {
          "output_type": "stream",
          "name": "stderr",
          "text": [
            "\r 80%|████████  | 24/30 [03:09<00:49,  8.18s/it]"
          ]
        },
        {
          "output_type": "stream",
          "name": "stdout",
          "text": [
            "Train acc: 1.0000 Val acc: 0.9990\n"
          ]
        },
        {
          "output_type": "stream",
          "name": "stderr",
          "text": [
            "\r 83%|████████▎ | 25/30 [03:17<00:40,  8.01s/it]"
          ]
        },
        {
          "output_type": "stream",
          "name": "stdout",
          "text": [
            "Train acc: 1.0000 Val acc: 0.9995\n"
          ]
        },
        {
          "output_type": "stream",
          "name": "stderr",
          "text": [
            "\r 87%|████████▋ | 26/30 [03:26<00:33,  8.29s/it]"
          ]
        },
        {
          "output_type": "stream",
          "name": "stdout",
          "text": [
            "Train acc: 1.0000 Val acc: 0.9985\n"
          ]
        },
        {
          "output_type": "stream",
          "name": "stderr",
          "text": [
            "\r 90%|█████████ | 27/30 [03:33<00:24,  8.04s/it]"
          ]
        },
        {
          "output_type": "stream",
          "name": "stdout",
          "text": [
            "Train acc: 1.0000 Val acc: 0.9990\n"
          ]
        },
        {
          "output_type": "stream",
          "name": "stderr",
          "text": [
            "\r 93%|█████████▎| 28/30 [03:42<00:16,  8.18s/it]"
          ]
        },
        {
          "output_type": "stream",
          "name": "stdout",
          "text": [
            "Train acc: 1.0000 Val acc: 0.9985\n"
          ]
        },
        {
          "output_type": "stream",
          "name": "stderr",
          "text": [
            "\r 97%|█████████▋| 29/30 [03:50<00:08,  8.06s/it]"
          ]
        },
        {
          "output_type": "stream",
          "name": "stdout",
          "text": [
            "Train acc: 1.0000 Val acc: 1.0000\n"
          ]
        },
        {
          "output_type": "stream",
          "name": "stderr",
          "text": [
            "100%|██████████| 30/30 [03:58<00:00,  7.96s/it]"
          ]
        },
        {
          "output_type": "stream",
          "name": "stdout",
          "text": [
            "Train acc: 1.0000 Val acc: 0.9990\n"
          ]
        },
        {
          "output_type": "stream",
          "name": "stderr",
          "text": [
            "\n"
          ]
        }
      ]
    },
    {
      "cell_type": "code",
      "execution_count": null,
      "id": "7a5db004-5dbf-42b3-a665-3c97c293d6c5",
      "metadata": {
        "id": "7a5db004-5dbf-42b3-a665-3c97c293d6c5"
      },
      "outputs": [],
      "source": []
    },
    {
      "cell_type": "markdown",
      "id": "06c5a8d4",
      "metadata": {
        "id": "06c5a8d4"
      },
      "source": [
        "## Task 1: Question 5d"
      ]
    },
    {
      "cell_type": "code",
      "execution_count": null,
      "id": "37e8735b",
      "metadata": {
        "id": "37e8735b"
      },
      "outputs": [],
      "source": []
    },
    {
      "cell_type": "markdown",
      "id": "1e988bc2-6ba1-49cd-ae26-6feea8ad2776",
      "metadata": {
        "id": "1e988bc2-6ba1-49cd-ae26-6feea8ad2776"
      },
      "source": [
        "# Task 2: Carpet Matching "
      ]
    },
    {
      "cell_type": "code",
      "execution_count": null,
      "id": "20a2ce3a-4c8c-4f1f-9a29-113063ce7f74",
      "metadata": {
        "id": "20a2ce3a-4c8c-4f1f-9a29-113063ce7f74"
      },
      "outputs": [],
      "source": [
        "# loading training and testing data for task 2\n",
        "# DO NOT MODIFY\n",
        "task2 = load_numpy_arr_from_url(\"https://github.com/vlamen/tue-deeplearning/blob/main/assignments/assignment_1/task2data.npz?raw=true\")\n",
        "# task2 = np.load('task2data.npz')\n",
        "\n",
        "X = task2['arr_0'].astype(float)\n",
        "y = task2['arr_1'].astype(float)\n",
        "gt = task2['arr_2'].astype(float) # ground truth\n",
        "queries = task2['arr_3'].astype(float)\n",
        "targets = task2['arr_4'].astype(float)\n",
        "\n",
        "print(f\"Carpet train shape: {X.shape}\")\n",
        "print(f\"Label train shape: {y.shape}\")\n",
        "print(f\"Ground truth test shape: {gt.shape}\")\n",
        "print(f\"Query carpets shape: {queries.shape}\")\n",
        "print(f\"Candidate carpets shape: {targets.shape}\")"
      ]
    },
    {
      "cell_type": "code",
      "execution_count": null,
      "id": "fd0cc1db-e473-412e-b6b8-c95adc5438dd",
      "metadata": {
        "id": "fd0cc1db-e473-412e-b6b8-c95adc5438dd"
      },
      "outputs": [],
      "source": [
        "# function to determine performance of model\n",
        "def query_performance(queries, targets, gt, top=1):\n",
        "    assert top >= 1\n",
        "    cnt = 0\n",
        "    for i in range(gt.shape[0]):\n",
        "\n",
        "        q = queries[i][None].float().cuda()\n",
        "        t = targets[i].float().cuda()\n",
        "\n",
        "        with torch.no_grad():\n",
        "            \n",
        "            \n",
        "            ### MODIFY IF NECESSARY ###\n",
        "            emb_q = net(q).cpu().numpy()\n",
        "            emb_t = net(t).cpu().numpy()\n",
        "\n",
        "            dists = cdist(emb_q, emb_t)\n",
        "            \n",
        "            if top == 1:\n",
        "                pred = np.argmin(dists)\n",
        "\n",
        "                if pred == gt[i]:\n",
        "                    cnt += 1\n",
        "            \n",
        "            else:\n",
        "                pred = np.argsort(dists)\n",
        "                if gt[i] in pred[0,:top].tolist():\n",
        "                    cnt+=1\n",
        "    return (100*cnt/gt.shape[0])"
      ]
    },
    {
      "cell_type": "code",
      "execution_count": null,
      "id": "f8c16073-7f5c-4bd4-9c11-c0a321736982",
      "metadata": {
        "id": "f8c16073-7f5c-4bd4-9c11-c0a321736982"
      },
      "outputs": [],
      "source": [
        "###     YOUR CODE FOR TASK 2    ###\n",
        "### ADD MORE CELLS IF NECESSARY ###"
      ]
    },
    {
      "cell_type": "code",
      "execution_count": null,
      "id": "068d5e9c-9fcc-44af-99a8-586c4bfa3c9a",
      "metadata": {
        "id": "068d5e9c-9fcc-44af-99a8-586c4bfa3c9a"
      },
      "outputs": [],
      "source": []
    }
  ],
  "metadata": {
    "colab": {
      "provenance": [],
      "gpuType": "T4"
    },
    "kernelspec": {
      "display_name": "Python 3 (ipykernel)",
      "language": "python",
      "name": "python3"
    },
    "language_info": {
      "codemirror_mode": {
        "name": "ipython",
        "version": 3
      },
      "file_extension": ".py",
      "mimetype": "text/x-python",
      "name": "python",
      "nbconvert_exporter": "python",
      "pygments_lexer": "ipython3",
      "version": "3.9.13"
    },
    "accelerator": "GPU",
    "gpuClass": "standard"
  },
  "nbformat": 4,
  "nbformat_minor": 5
}